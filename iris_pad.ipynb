{
  "nbformat": 4,
  "nbformat_minor": 0,
  "metadata": {
    "colab": {
      "provenance": [],
      "gpuType": "T4"
    },
    "kernelspec": {
      "name": "python3",
      "display_name": "Python 3"
    },
    "language_info": {
      "name": "python"
    },
    "accelerator": "GPU"
  },
  "cells": [
    {
      "cell_type": "code",
      "source": [
        "# Iris Presentation Attack Detection Using Deep Learning\n",
        "# Summer Enrichment Program 2024\n",
        "# -----------------------------------------------------\n",
        "# Rasel Ahmed Bhuiyan, July 2024"
      ],
      "metadata": {
        "id": "G5fPynZYM88t"
      },
      "execution_count": null,
      "outputs": []
    },
    {
      "cell_type": "code",
      "execution_count": 2,
      "metadata": {
        "colab": {
          "base_uri": "https://localhost:8080/"
        },
        "id": "mASVNnEEkPrF",
        "outputId": "c2fdb2fa-bded-44e3-c7c5-fd9457542694"
      },
      "outputs": [
        {
          "output_type": "stream",
          "name": "stdout",
          "text": [
            "Mounted at /content/drive\n"
          ]
        }
      ],
      "source": [
        "import os\n",
        "import torch\n",
        "import torch.nn as nn\n",
        "import torch.optim as optim\n",
        "import torch.nn.functional as F\n",
        "from torch.utils.data import DataLoader, Dataset\n",
        "from torchvision import transforms, datasets, models\n",
        "from sklearn.metrics import accuracy_score, precision_score, recall_score, f1_score, roc_curve, auc, confusion_matrix\n",
        "import matplotlib.pyplot as plt\n",
        "import seaborn as sns\n",
        "from sklearn.model_selection import train_test_split\n",
        "from tqdm import tqdm\n",
        "from PIL import Image\n",
        "import numpy as np\n",
        "from google.colab import drive\n",
        "\n",
        "# Mount Google Drive\n",
        "drive.mount('/content/drive')"
      ]
    },
    {
      "cell_type": "markdown",
      "source": [
        "# Define the dataset class"
      ],
      "metadata": {
        "id": "vxSvgU-Xks_e"
      }
    },
    {
      "cell_type": "code",
      "source": [
        "class CustomImageDataset(Dataset):\n",
        "    def __init__(self, image_paths, labels, transform=None):\n",
        "        self.image_paths = image_paths\n",
        "        self.labels = labels\n",
        "        self.transform = transform\n",
        "\n",
        "    def __len__(self):\n",
        "        return len(self.image_paths)\n",
        "\n",
        "    def __getitem__(self, idx):\n",
        "        image = Image.open(self.image_paths[idx]).convert(\"RGB\")\n",
        "        label = self.labels[idx]\n",
        "        if self.transform:\n",
        "            image = self.transform(image)\n",
        "        return image, label"
      ],
      "metadata": {
        "id": "E7qf-JfWkbCN"
      },
      "execution_count": 3,
      "outputs": []
    },
    {
      "cell_type": "markdown",
      "source": [
        "# Split dataset for train, test, and validation"
      ],
      "metadata": {
        "id": "XG80Jb0NlLHm"
      }
    },
    {
      "cell_type": "code",
      "source": [
        "def load_and_split_data(root_dir, test_size=0.2, val_size=0.2):\n",
        "    image_paths = []\n",
        "    labels = []\n",
        "    for label, subdir in enumerate(['bonafide', 'attack']):\n",
        "        subdir_path = os.path.join(root_dir, subdir)\n",
        "        for fname in tqdm(os.listdir(subdir_path), desc=f'Loading {subdir} images'):\n",
        "            image_paths.append(os.path.join(subdir_path, fname))\n",
        "            labels.append(label)\n",
        "\n",
        "    train_paths, test_paths, train_labels, test_labels = train_test_split(\n",
        "        image_paths, labels, test_size=test_size, stratify=labels\n",
        "    )\n",
        "\n",
        "    train_paths, val_paths, train_labels, val_labels = train_test_split(\n",
        "        train_paths, train_labels, test_size=val_size, stratify=train_labels\n",
        "    )\n",
        "\n",
        "    return train_paths, val_paths, test_paths, train_labels, val_labels, test_labels"
      ],
      "metadata": {
        "id": "H2Rfi9l7kyJb"
      },
      "execution_count": 4,
      "outputs": []
    },
    {
      "cell_type": "markdown",
      "source": [
        "# Load Data"
      ],
      "metadata": {
        "id": "OULczm47mLuN"
      }
    },
    {
      "cell_type": "code",
      "source": [
        "# Follow the subdirectory name as it is\n",
        "\n",
        "# root_dir/\n",
        "#    |- bonafide/\n",
        "#    |   |- image1.jpg\n",
        "#    |   |- image2.jpg\n",
        "#    |- attack/\n",
        "#    |   |- image3.jpg\n",
        "#    |   |- image4.jpg"
      ],
      "metadata": {
        "id": "rV9x9RsVDieI"
      },
      "execution_count": null,
      "outputs": []
    },
    {
      "cell_type": "code",
      "source": [
        "root_dir = '/content/drive/MyDrive/Iris-Presentation-Attack/dataset'\n",
        "best_model_path = '/content/drive/MyDrive/Iris-Presentation-Attack/best_model.pth'\n",
        "batch_size = 32\n",
        "\n",
        "# Data transforms\n",
        "transform = transforms.Compose([\n",
        "    transforms.CenterCrop(224),\n",
        "    transforms.ToTensor(),\n",
        "    transforms.Normalize(mean=[0.485, 0.456, 0.406], std=[0.229, 0.224, 0.225])\n",
        "])\n",
        "\n",
        "train_paths, val_paths, test_paths, train_labels, val_labels, test_labels = load_and_split_data(root_dir)\n",
        "\n",
        "train_dataset = CustomImageDataset(train_paths, train_labels, transform)\n",
        "val_dataset = CustomImageDataset(val_paths, val_labels, transform)\n",
        "test_dataset = CustomImageDataset(test_paths, test_labels, transform)\n",
        "\n",
        "dataloaders = {\n",
        "    'train': DataLoader(train_dataset, batch_size=batch_size, shuffle=True),\n",
        "    'val': DataLoader(val_dataset, batch_size=batch_size, shuffle=False),\n",
        "    'test': DataLoader(test_dataset, batch_size=batch_size, shuffle=False)\n",
        "}\n",
        "\n",
        "dataset_sizes = {\n",
        "    'train': len(train_dataset),\n",
        "    'val': len(val_dataset),\n",
        "    'test': len(test_dataset)\n",
        "}\n",
        "\n",
        "print(f'\\n\\n{dataset_sizes}')"
      ],
      "metadata": {
        "colab": {
          "base_uri": "https://localhost:8080/"
        },
        "id": "_vob9RGIlRKB",
        "outputId": "babb74f8-a635-4006-8381-4300eaae28bb"
      },
      "execution_count": 5,
      "outputs": [
        {
          "output_type": "stream",
          "name": "stderr",
          "text": [
            "Loading bonafide images: 100%|██████████| 2677/2677 [00:00<00:00, 272026.16it/s]\n",
            "Loading attack images: 100%|██████████| 2151/2151 [00:00<00:00, 576961.56it/s]"
          ]
        },
        {
          "output_type": "stream",
          "name": "stdout",
          "text": [
            "\n",
            "\n",
            "{'train': 3089, 'val': 773, 'test': 966}\n"
          ]
        },
        {
          "output_type": "stream",
          "name": "stderr",
          "text": [
            "\n"
          ]
        }
      ]
    },
    {
      "cell_type": "markdown",
      "source": [
        "# Check GPU is available or not"
      ],
      "metadata": {
        "id": "IA6IyJWMq8eF"
      }
    },
    {
      "cell_type": "code",
      "source": [
        "device = torch.device(\"cuda\" if torch.cuda.is_available() else \"cpu\")\n",
        "print(f'Current device: {device}')"
      ],
      "metadata": {
        "colab": {
          "base_uri": "https://localhost:8080/"
        },
        "id": "iS8rBJx3q2Go",
        "outputId": "e4e4bcb8-4bae-463e-a30e-72cdaea6ebbc"
      },
      "execution_count": 6,
      "outputs": [
        {
          "output_type": "stream",
          "name": "stdout",
          "text": [
            "Current device: cuda\n"
          ]
        }
      ]
    },
    {
      "cell_type": "markdown",
      "source": [
        "# Training function"
      ],
      "metadata": {
        "id": "R4mTDBY7oZ4U"
      }
    },
    {
      "cell_type": "code",
      "source": [
        "# Model training function\n",
        "def train_model(model, criterion, optimizer, dataloaders, dataset_sizes, num_epochs=25):\n",
        "    best_acc = 0.0\n",
        "\n",
        "    for epoch in range(num_epochs):\n",
        "        print(f'Epoch {epoch+1}/{num_epochs}')\n",
        "        print('-' * 10)\n",
        "\n",
        "        for phase in ['train', 'val']:\n",
        "            if phase == 'train':\n",
        "                model.train()\n",
        "            else:\n",
        "                model.eval()\n",
        "\n",
        "            running_loss = 0.0\n",
        "            running_corrects = 0\n",
        "\n",
        "            phase_loader = tqdm(dataloaders[phase], desc=f'{phase} Epoch {epoch+1}', leave=False)\n",
        "            for inputs, labels in phase_loader:\n",
        "                inputs, labels = inputs.to(device), labels.to(device)\n",
        "\n",
        "                optimizer.zero_grad()\n",
        "\n",
        "                with torch.set_grad_enabled(phase == 'train'):\n",
        "                    outputs = model(inputs)\n",
        "                    _, preds = torch.max(outputs, 1)\n",
        "                    loss = criterion(outputs, labels)\n",
        "\n",
        "                    if phase == 'train':\n",
        "                        loss.backward()\n",
        "                        optimizer.step()\n",
        "\n",
        "                running_loss += loss.item() * inputs.size(0)\n",
        "                running_corrects += torch.sum(preds == labels.data)\n",
        "\n",
        "                batch_acc = (running_corrects / dataset_sizes[phase]).cpu().numpy()\n",
        "\n",
        "                phase_loader.set_postfix(loss=f'{running_loss / dataset_sizes[phase]:.3f}', acc=f'{batch_acc:.3f}')\n",
        "\n",
        "\n",
        "            epoch_loss = running_loss / dataset_sizes[phase]\n",
        "            epoch_acc = running_corrects.double() / dataset_sizes[phase]\n",
        "\n",
        "            print(f'{phase} Loss: {epoch_loss:.3f} Acc: {epoch_acc:.3f}')\n",
        "\n",
        "            if phase == 'val' and epoch_acc > best_acc:\n",
        "                best_acc = epoch_acc\n",
        "                torch.save(model.state_dict(), best_model_path)\n",
        "\n",
        "        # print()"
      ],
      "metadata": {
        "id": "_pbIiTFFoPtV"
      },
      "execution_count": 7,
      "outputs": []
    },
    {
      "cell_type": "markdown",
      "source": [
        "# Evaluation function"
      ],
      "metadata": {
        "id": "3jbPTAu9pni4"
      }
    },
    {
      "cell_type": "code",
      "source": [
        "def evaluate_model(model, dataloaders, dataset_sizes):\n",
        "    model.eval()\n",
        "    y_true = []\n",
        "    y_pred = []\n",
        "    y_scores = []\n",
        "\n",
        "    bona_fide_scores = []\n",
        "    attack_scores = []\n",
        "\n",
        "    with torch.no_grad():\n",
        "        test_loader = tqdm(dataloaders['test'], desc='Testing')\n",
        "        for inputs, labels in test_loader:\n",
        "            inputs, labels = inputs.to(device), labels.to(device)\n",
        "            outputs = model(inputs)\n",
        "            _, preds = torch.max(outputs, 1)\n",
        "            y_scores.extend(outputs[:, 1].cpu().numpy())\n",
        "            y_true.extend(labels.cpu().numpy())\n",
        "            y_pred.extend(preds.cpu().numpy())\n",
        "\n",
        "            for i in range(len(labels)):\n",
        "                if labels[i] == 0:  # Bona fide\n",
        "                    bona_fide_scores.append(outputs[i, 1].item())\n",
        "                else:  # Attack\n",
        "                    attack_scores.append(outputs[i, 1].item())\n",
        "\n",
        "    return y_true, y_pred, y_scores, bona_fide_scores, attack_scores\n"
      ],
      "metadata": {
        "id": "T_ZhhJDXpkAa"
      },
      "execution_count": 8,
      "outputs": []
    },
    {
      "cell_type": "markdown",
      "source": [
        "# Build classifier"
      ],
      "metadata": {
        "id": "Tox11QRpr5hC"
      }
    },
    {
      "cell_type": "code",
      "source": [
        "# Load pre-trained ResNet18 model\n",
        "model = models.resnet18(weights='DEFAULT')\n",
        "num_ftrs = model.fc.in_features\n",
        "model.fc = nn.Linear(num_ftrs, 2)\n",
        "model = model.to(device)"
      ],
      "metadata": {
        "id": "MuKCCnL4rcI3"
      },
      "execution_count": 10,
      "outputs": []
    },
    {
      "cell_type": "markdown",
      "source": [
        "# Train model"
      ],
      "metadata": {
        "id": "N0Xlvue4y-aE"
      }
    },
    {
      "cell_type": "code",
      "source": [
        "num_epochs = 10\n",
        "criterion = nn.CrossEntropyLoss()\n",
        "optimizer = optim.Adam(model.parameters(), lr=0.001)\n",
        "train_model(model, criterion, optimizer, dataloaders, dataset_sizes, num_epochs=num_epochs)"
      ],
      "metadata": {
        "colab": {
          "base_uri": "https://localhost:8080/"
        },
        "id": "MhyedU1ktLcq",
        "outputId": "82fa6271-3a2c-47c0-f750-0a3b6df35271"
      },
      "execution_count": null,
      "outputs": [
        {
          "output_type": "stream",
          "name": "stdout",
          "text": [
            "Epoch 1/10\n",
            "----------\n"
          ]
        },
        {
          "output_type": "stream",
          "name": "stderr",
          "text": []
        },
        {
          "output_type": "stream",
          "name": "stdout",
          "text": [
            "train Loss: 0.009 Acc: 0.997\n"
          ]
        },
        {
          "output_type": "stream",
          "name": "stderr",
          "text": []
        },
        {
          "output_type": "stream",
          "name": "stdout",
          "text": [
            "val Loss: 0.046 Acc: 0.994\n",
            "Epoch 2/10\n",
            "----------\n"
          ]
        },
        {
          "output_type": "stream",
          "name": "stderr",
          "text": []
        },
        {
          "output_type": "stream",
          "name": "stdout",
          "text": [
            "train Loss: 0.000 Acc: 1.000\n"
          ]
        },
        {
          "output_type": "stream",
          "name": "stderr",
          "text": []
        },
        {
          "output_type": "stream",
          "name": "stdout",
          "text": [
            "val Loss: 0.051 Acc: 0.999\n",
            "Epoch 3/10\n",
            "----------\n"
          ]
        },
        {
          "output_type": "stream",
          "name": "stderr",
          "text": []
        },
        {
          "output_type": "stream",
          "name": "stdout",
          "text": [
            "train Loss: 0.000 Acc: 1.000\n"
          ]
        },
        {
          "output_type": "stream",
          "name": "stderr",
          "text": []
        },
        {
          "output_type": "stream",
          "name": "stdout",
          "text": [
            "val Loss: 0.042 Acc: 0.999\n",
            "Epoch 4/10\n",
            "----------\n"
          ]
        },
        {
          "output_type": "stream",
          "name": "stderr",
          "text": []
        },
        {
          "output_type": "stream",
          "name": "stdout",
          "text": [
            "train Loss: 0.000 Acc: 1.000\n"
          ]
        },
        {
          "output_type": "stream",
          "name": "stderr",
          "text": []
        },
        {
          "output_type": "stream",
          "name": "stdout",
          "text": [
            "val Loss: 0.034 Acc: 0.999\n",
            "Epoch 5/10\n",
            "----------\n"
          ]
        },
        {
          "output_type": "stream",
          "name": "stderr",
          "text": []
        },
        {
          "output_type": "stream",
          "name": "stdout",
          "text": [
            "train Loss: 0.000 Acc: 1.000\n"
          ]
        },
        {
          "output_type": "stream",
          "name": "stderr",
          "text": []
        },
        {
          "output_type": "stream",
          "name": "stdout",
          "text": [
            "val Loss: 0.001 Acc: 1.000\n",
            "Epoch 6/10\n",
            "----------\n"
          ]
        },
        {
          "output_type": "stream",
          "name": "stderr",
          "text": []
        },
        {
          "output_type": "stream",
          "name": "stdout",
          "text": [
            "train Loss: 0.001 Acc: 0.999\n"
          ]
        },
        {
          "output_type": "stream",
          "name": "stderr",
          "text": []
        },
        {
          "output_type": "stream",
          "name": "stdout",
          "text": [
            "val Loss: 1.977 Acc: 0.635\n",
            "Epoch 7/10\n",
            "----------\n"
          ]
        },
        {
          "output_type": "stream",
          "name": "stderr",
          "text": []
        },
        {
          "output_type": "stream",
          "name": "stdout",
          "text": [
            "train Loss: 0.002 Acc: 0.999\n"
          ]
        },
        {
          "output_type": "stream",
          "name": "stderr",
          "text": []
        },
        {
          "output_type": "stream",
          "name": "stdout",
          "text": [
            "val Loss: 0.027 Acc: 0.992\n",
            "Epoch 8/10\n",
            "----------\n"
          ]
        },
        {
          "output_type": "stream",
          "name": "stderr",
          "text": []
        },
        {
          "output_type": "stream",
          "name": "stdout",
          "text": [
            "train Loss: 0.000 Acc: 1.000\n"
          ]
        },
        {
          "output_type": "stream",
          "name": "stderr",
          "text": []
        },
        {
          "output_type": "stream",
          "name": "stdout",
          "text": [
            "val Loss: 0.000 Acc: 1.000\n",
            "Epoch 9/10\n",
            "----------\n"
          ]
        },
        {
          "output_type": "stream",
          "name": "stderr",
          "text": []
        },
        {
          "output_type": "stream",
          "name": "stdout",
          "text": [
            "train Loss: 0.000 Acc: 1.000\n"
          ]
        },
        {
          "output_type": "stream",
          "name": "stderr",
          "text": []
        },
        {
          "output_type": "stream",
          "name": "stdout",
          "text": [
            "val Loss: 0.000 Acc: 1.000\n",
            "Epoch 10/10\n",
            "----------\n"
          ]
        },
        {
          "output_type": "stream",
          "name": "stderr",
          "text": []
        },
        {
          "output_type": "stream",
          "name": "stdout",
          "text": [
            "train Loss: 0.010 Acc: 0.997\n"
          ]
        },
        {
          "output_type": "stream",
          "name": "stderr",
          "text": [
            "                                                                                    "
          ]
        },
        {
          "output_type": "stream",
          "name": "stdout",
          "text": [
            "val Loss: 9.521 Acc: 0.740\n"
          ]
        },
        {
          "output_type": "stream",
          "name": "stderr",
          "text": [
            "\r"
          ]
        }
      ]
    },
    {
      "cell_type": "markdown",
      "source": [
        "# Evaluate Best Model"
      ],
      "metadata": {
        "id": "hR7zClyg29KW"
      }
    },
    {
      "cell_type": "code",
      "source": [
        "model.load_state_dict(torch.load(best_model_path))\n",
        "y_true, y_pred, y_scores, bona_fide_scores, attack_scores = evaluate_model(model, dataloaders, dataset_sizes)"
      ],
      "metadata": {
        "colab": {
          "base_uri": "https://localhost:8080/"
        },
        "id": "D0uzmMe23Ag2",
        "outputId": "0bfe86f4-3ca4-4f73-df2d-13ff4944c93f"
      },
      "execution_count": 11,
      "outputs": [
        {
          "output_type": "stream",
          "name": "stderr",
          "text": [
            "Testing: 100%|██████████| 31/31 [06:32<00:00, 12.67s/it]\n"
          ]
        }
      ]
    },
    {
      "cell_type": "markdown",
      "source": [
        "# Compute Classification and PAD metrics"
      ],
      "metadata": {
        "id": "StHd-SqmADLh"
      }
    },
    {
      "cell_type": "code",
      "source": [
        "# Calculate classification metrics\n",
        "accuracy = int(accuracy_score(y_true, y_pred)*100)\n",
        "precision = int(precision_score(y_true, y_pred)*100)\n",
        "recall = int(recall_score(y_true, y_pred)*100)\n",
        "f1 = int(f1_score(y_true, y_pred)*100)\n",
        "\n",
        "# Calculate ROC curve and AUC\n",
        "fpr, tpr, _ = roc_curve(y_true, y_scores)\n",
        "roc_auc = int(auc(fpr, tpr)*100)\n",
        "\n",
        "# Convert scores to numpy arrays for PAD metrics calculation\n",
        "bona_fide_scores = np.array(bona_fide_scores)\n",
        "attack_scores = np.array(attack_scores)\n",
        "\n",
        "# Bona Fide Presentation Classification Error Rate (BPCER)\n",
        "BPCER = np.mean(bona_fide_scores > 0.5)\n",
        "# Attack Presentation Classification Error Rate (APCER)\n",
        "APCER = np.mean(attack_scores < 0.5)\n",
        "\n",
        "print(f'Accuracy: {accuracy}%')\n",
        "print(f'Precision: {precision}%')\n",
        "print(f'Recall: {recall}%')\n",
        "print(f'F1 Score: {f1}%')\n",
        "print(f'AUC: {roc_auc}%')\n",
        "print(f'BPCER: {BPCER:.2f}')\n",
        "print(f'APCER: {APCER:.2f}')"
      ],
      "metadata": {
        "colab": {
          "base_uri": "https://localhost:8080/"
        },
        "id": "K3l5rnMm_e5p",
        "outputId": "e6e5391e-7d15-4451-f8af-9ff14e25cf08"
      },
      "execution_count": 12,
      "outputs": [
        {
          "output_type": "stream",
          "name": "stdout",
          "text": [
            "Accuracy: 100%\n",
            "Precision: 100%\n",
            "Recall: 100%\n",
            "F1 Score: 100%\n",
            "AUC: 100%\n",
            "BPCER: 0.00\n",
            "APCER: 0.00\n"
          ]
        }
      ]
    },
    {
      "cell_type": "code",
      "source": [
        "plt.rcParams['figure.constrained_layout.use'] = True\n",
        "plt.rcParams['font.size'] = 15"
      ],
      "metadata": {
        "id": "4xFcj_ay3N8w"
      },
      "execution_count": 13,
      "outputs": []
    },
    {
      "cell_type": "code",
      "source": [
        "# Confusion Matrix\n",
        "cm = confusion_matrix(y_true, y_pred)\n",
        "plt.figure(figsize=(6.54, 6.54*0.8))\n",
        "sns.heatmap(cm, annot=True, fmt='d', cmap='Blues', cbar=False,\n",
        "            xticklabels=['Bonafide', 'Attack'], yticklabels=['Bonafide', 'Attack'])\n",
        "plt.xlabel('Predicted Label')\n",
        "plt.ylabel('True Label')\n",
        "plt.title('Confusion Matrix')\n",
        "plt.savefig(f\"/content/drive/MyDrive/Iris-Presentation-Attack/cm.png\", dpi=600)\n",
        "plt.show()"
      ],
      "metadata": {
        "colab": {
          "base_uri": "https://localhost:8080/",
          "height": 551
        },
        "id": "cxj21nxqBM8o",
        "outputId": "cdd1f79b-9f39-4b5b-acb3-396db5b681ae"
      },
      "execution_count": 14,
      "outputs": [
        {
          "output_type": "display_data",
          "data": {
            "text/plain": [
              "<Figure size 654x523.2 with 1 Axes>"
            ],
            "image/png": "[encoded data removed]"
          },
          "metadata": {}
        }
      ]
    },
    {
      "cell_type": "code",
      "source": [
        "# ROC Curve\n",
        "plt.figure(figsize=(6.54, 6.54*0.8))\n",
        "plt.plot(fpr, tpr, color='darkorange', lw=2, label=f'AUC = {roc_auc:.2f}')\n",
        "plt.plot([0, 1], [0, 1], color='navy', lw=2, linestyle='--')\n",
        "plt.xlim([0.0, 1.0])\n",
        "plt.ylim([0.0, 1.05])\n",
        "plt.xlabel('False Positive Rate')\n",
        "plt.ylabel('True Positive Rate')\n",
        "plt.title('ROC Curve')\n",
        "plt.legend(loc='lower right')\n",
        "plt.savefig(f\"/content/drive/MyDrive/Iris-Presentation-Attack/roc.png\", dpi=600)\n",
        "plt.show()"
      ],
      "metadata": {
        "colab": {
          "base_uri": "https://localhost:8080/",
          "height": 551
        },
        "id": "F-LDIU_qBQId",
        "outputId": "abf4d82d-f748-4431-fa47-f010f7672b88"
      },
      "execution_count": 15,
      "outputs": [
        {
          "output_type": "display_data",
          "data": {
            "text/plain": [
              "<Figure size 654x523.2 with 1 Axes>"
            ],
            "image/png": "[encoded data removed]"
          },
          "metadata": {}
        }
      ]
    },
    {
      "cell_type": "code",
      "source": [
        "plt.figure(figsize=(6.54, 6.54*0.8))\n",
        "plt.hist(bona_fide_scores, alpha=0.5, bins=40, label='Bonafide', color='blue')\n",
        "plt.hist(attack_scores, alpha=0.5, bins=40, label='Attack', color='red')\n",
        "plt.title('Logit Distribution')\n",
        "plt.xlabel('Logit')\n",
        "plt.ylabel('Count')\n",
        "plt.legend(loc='upper left')\n",
        "plt.grid(True)\n",
        "plt.savefig(f\"/content/drive/MyDrive/Iris-Presentation-Attack/dist.png\", dpi=600)\n",
        "plt.show()"
      ],
      "metadata": {
        "id": "TyA6Ah9v3k_P",
        "colab": {
          "base_uri": "https://localhost:8080/",
          "height": 551
        },
        "outputId": "d6e453cb-0914-4420-8102-2117b93a0efe"
      },
      "execution_count": 16,
      "outputs": [
        {
          "output_type": "display_data",
          "data": {
            "text/plain": [
              "<Figure size 654x523.2 with 1 Axes>"
            ],
            "image/png": "[encoded data removed]"
          },
          "metadata": {}
        }
      ]
    },
    {
      "cell_type": "code",
      "source": [
        "metrics = ['Accuracy', 'Precision', 'Recall', 'F1 Score', 'AUC']\n",
        "values = [accuracy, precision, recall, f1, roc_auc]\n",
        "\n",
        "plt.figure(figsize=(6.54, 6.54*0.8))\n",
        "plt.bar(metrics, values, color='skyblue')\n",
        "plt.xlabel('Metrics')\n",
        "plt.ylabel('Percentage')\n",
        "plt.title('Performance Metrics')\n",
        "plt.ylim(0, 110)\n",
        "plt.grid(axis='y', linestyle='--', alpha=0.7)\n",
        "\n",
        "# Adding the percentage labels on top of the bars\n",
        "for i, value in enumerate(values):\n",
        "    plt.text(i, value + 1, f'{value}%', ha='center', va='bottom')\n",
        "\n",
        "# Save the figure as an image file\n",
        "plt.savefig('/content/drive/MyDrive/Iris-Presentation-Attack/perm.png', dpi=600)\n",
        "\n",
        "# Show the plot\n",
        "plt.show()"
      ],
      "metadata": {
        "colab": {
          "base_uri": "https://localhost:8080/",
          "height": 551
        },
        "id": "VHLIfL0nqJ_4",
        "outputId": "4ac4b10e-0a5a-49e1-c94b-815191132474"
      },
      "execution_count": 19,
      "outputs": [
        {
          "output_type": "display_data",
          "data": {
            "text/plain": [
              "<Figure size 654x523.2 with 1 Axes>"
            ],
            "image/png": "[encoded data removed]"
          },
          "metadata": {}
        }
      ]
    }
  ]
}
